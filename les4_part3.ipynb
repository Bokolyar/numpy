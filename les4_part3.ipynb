{
 "cells": [
  {
   "cell_type": "markdown",
   "id": "bf562c0c",
   "metadata": {},
   "source": [
    "# Задание 5 (повторение материала)"
   ]
  },
  {
   "cell_type": "code",
   "execution_count": 1,
   "id": "3725118f",
   "metadata": {},
   "outputs": [],
   "source": [
    "import numpy as np"
   ]
  },
  {
   "cell_type": "code",
   "execution_count": 2,
   "id": "c482633e",
   "metadata": {},
   "outputs": [],
   "source": [
    "a = np.arange(12,24)\n",
    "x = len(a)"
   ]
  },
  {
   "cell_type": "code",
   "execution_count": 3,
   "id": "8ab227c7",
   "metadata": {},
   "outputs": [
    {
     "data": {
      "text/plain": [
       "array([12, 13, 14, 15, 16, 17, 18, 19, 20, 21, 22, 23])"
      ]
     },
     "execution_count": 3,
     "metadata": {},
     "output_type": "execute_result"
    }
   ],
   "source": [
    "a"
   ]
  },
  {
   "cell_type": "code",
   "execution_count": 4,
   "id": "459f033a",
   "metadata": {},
   "outputs": [
    {
     "data": {
      "text/plain": [
       "12"
      ]
     },
     "execution_count": 4,
     "metadata": {},
     "output_type": "execute_result"
    }
   ],
   "source": [
    "x"
   ]
  },
  {
   "cell_type": "code",
   "execution_count": 5,
   "id": "42da9504",
   "metadata": {},
   "outputs": [
    {
     "name": "stdout",
     "output_type": "stream",
     "text": [
      "[[12 13 14 15 16 17]\n",
      " [18 19 20 21 22 23]]\n",
      "[[12 13 14 15]\n",
      " [16 17 18 19]\n",
      " [20 21 22 23]]\n",
      "[[12 13 14]\n",
      " [15 16 17]\n",
      " [18 19 20]\n",
      " [21 22 23]]\n",
      "[[12 13]\n",
      " [14 15]\n",
      " [16 17]\n",
      " [18 19]\n",
      " [20 21]\n",
      " [22 23]]\n",
      "[[12]\n",
      " [13]\n",
      " [14]\n",
      " [15]\n",
      " [16]\n",
      " [17]\n",
      " [18]\n",
      " [19]\n",
      " [20]\n",
      " [21]\n",
      " [22]\n",
      " [23]]\n"
     ]
    }
   ],
   "source": [
    "for i in [2,3,4,6,12]:\n",
    "    b = np.reshape(a, (i, int(x / i)))\n",
    "    print(b)"
   ]
  },
  {
   "cell_type": "code",
   "execution_count": 6,
   "id": "39f4eaf9",
   "metadata": {},
   "outputs": [
    {
     "name": "stdout",
     "output_type": "stream",
     "text": [
      "[[12 13 14 15 16 17]\n",
      " [18 19 20 21 22 23]]\n",
      "[[12 13 14 15]\n",
      " [16 17 18 19]\n",
      " [20 21 22 23]]\n",
      "[[12 13 14]\n",
      " [15 16 17]\n",
      " [18 19 20]\n",
      " [21 22 23]]\n",
      "[[12 13]\n",
      " [14 15]\n",
      " [16 17]\n",
      " [18 19]\n",
      " [20 21]\n",
      " [22 23]]\n",
      "[[12]\n",
      " [13]\n",
      " [14]\n",
      " [15]\n",
      " [16]\n",
      " [17]\n",
      " [18]\n",
      " [19]\n",
      " [20]\n",
      " [21]\n",
      " [22]\n",
      " [23]]\n"
     ]
    }
   ],
   "source": [
    "for i in [2,3,4,6,12]:\n",
    "    c = np.reshape(a, (i, -1))\n",
    "    print(c)"
   ]
  },
  {
   "cell_type": "markdown",
   "id": "c9b005ce",
   "metadata": {},
   "source": [
    "### Массив numpy из 1 столбца и 12 строк можно назвать одномерным"
   ]
  },
  {
   "cell_type": "code",
   "execution_count": 7,
   "id": "e76b1f78",
   "metadata": {},
   "outputs": [
    {
     "data": {
      "text/plain": [
       "(12, 1)"
      ]
     },
     "execution_count": 7,
     "metadata": {},
     "output_type": "execute_result"
    }
   ],
   "source": [
    "c.shape"
   ]
  },
  {
   "cell_type": "code",
   "execution_count": 8,
   "id": "6f89c73b",
   "metadata": {},
   "outputs": [
    {
     "data": {
      "text/plain": [
       "array([[-0.88122921,  0.9876429 ,  1.16972498,  0.45530165],\n",
       "       [-0.04133655, -0.37470716,  0.27934392,  0.68022011],\n",
       "       [-0.72663763, -2.01898944,  1.95902715,  1.01049157]])"
      ]
     },
     "execution_count": 8,
     "metadata": {},
     "output_type": "execute_result"
    }
   ],
   "source": [
    "d = np.random.randn(3, 4)\n",
    "d"
   ]
  },
  {
   "cell_type": "code",
   "execution_count": 9,
   "id": "0ec262f2",
   "metadata": {},
   "outputs": [
    {
     "data": {
      "text/plain": [
       "array([-0.88122921,  0.9876429 ,  1.16972498,  0.45530165, -0.04133655,\n",
       "       -0.37470716,  0.27934392,  0.68022011, -0.72663763, -2.01898944,\n",
       "        1.95902715,  1.01049157])"
      ]
     },
     "execution_count": 9,
     "metadata": {},
     "output_type": "execute_result"
    }
   ],
   "source": [
    "e = d.flatten()\n",
    "e"
   ]
  },
  {
   "cell_type": "code",
   "execution_count": 10,
   "id": "3ca5b400",
   "metadata": {},
   "outputs": [
    {
     "name": "stdout",
     "output_type": "stream",
     "text": [
      "[20 18 16 14 12 10  8  6  4  2]\n"
     ]
    },
    {
     "data": {
      "text/plain": [
       "(10,)"
      ]
     },
     "execution_count": 10,
     "metadata": {},
     "output_type": "execute_result"
    }
   ],
   "source": [
    "a = np.arange(20, 0, -2)\n",
    "print(a)\n",
    "a.shape"
   ]
  },
  {
   "cell_type": "code",
   "execution_count": 11,
   "id": "5e5f3247",
   "metadata": {},
   "outputs": [
    {
     "name": "stdout",
     "output_type": "stream",
     "text": [
      "[[20 18 16 14 12 10  8  6  4  2]]\n"
     ]
    },
    {
     "data": {
      "text/plain": [
       "(1, 10)"
      ]
     },
     "execution_count": 11,
     "metadata": {},
     "output_type": "execute_result"
    }
   ],
   "source": [
    "b = np.zeros((1,10), dtype=int)\n",
    "k = 0\n",
    "for i in range(20, 0, -2):\n",
    "    b[0][k] = i\n",
    "    k += 1\n",
    "print(b)\n",
    "b.shape"
   ]
  },
  {
   "cell_type": "code",
   "execution_count": 12,
   "id": "77c9238c",
   "metadata": {},
   "outputs": [
    {
     "name": "stdout",
     "output_type": "stream",
     "text": [
      "1\n",
      "2\n"
     ]
    }
   ],
   "source": [
    "print(a.ndim)\n",
    "print(b.ndim)"
   ]
  },
  {
   "cell_type": "markdown",
   "id": "f20b9db4",
   "metadata": {},
   "source": [
    "### У массивов a и b разные размерности"
   ]
  },
  {
   "cell_type": "code",
   "execution_count": 13,
   "id": "3f77ef82",
   "metadata": {},
   "outputs": [
    {
     "data": {
      "text/plain": [
       "4"
      ]
     },
     "execution_count": 13,
     "metadata": {},
     "output_type": "execute_result"
    }
   ],
   "source": [
    "a = np.zeros((2,2))\n",
    "a.size"
   ]
  },
  {
   "cell_type": "code",
   "execution_count": 14,
   "id": "915f187c",
   "metadata": {},
   "outputs": [
    {
     "data": {
      "text/plain": [
       "6"
      ]
     },
     "execution_count": 14,
     "metadata": {},
     "output_type": "execute_result"
    }
   ],
   "source": [
    "b = np.ones((3,2))\n",
    "b.size"
   ]
  },
  {
   "cell_type": "code",
   "execution_count": 15,
   "id": "f3c38c52",
   "metadata": {},
   "outputs": [
    {
     "name": "stdout",
     "output_type": "stream",
     "text": [
      "10\n",
      "[[0. 0.]\n",
      " [0. 0.]\n",
      " [1. 1.]\n",
      " [1. 1.]\n",
      " [1. 1.]]\n"
     ]
    }
   ],
   "source": [
    "c = np.vstack((a,b))\n",
    "print(c.size)\n",
    "print(c)"
   ]
  },
  {
   "cell_type": "code",
   "execution_count": 16,
   "id": "02cca78f",
   "metadata": {},
   "outputs": [
    {
     "data": {
      "text/plain": [
       "array([ 0,  1,  2,  3,  4,  5,  6,  7,  8,  9, 10, 11])"
      ]
     },
     "execution_count": 16,
     "metadata": {},
     "output_type": "execute_result"
    }
   ],
   "source": [
    "a = np.arange(12)\n",
    "a"
   ]
  },
  {
   "cell_type": "code",
   "execution_count": 17,
   "id": "c540cb14",
   "metadata": {},
   "outputs": [
    {
     "data": {
      "text/plain": [
       "array([[ 0,  1,  2],\n",
       "       [ 3,  4,  5],\n",
       "       [ 6,  7,  8],\n",
       "       [ 9, 10, 11]])"
      ]
     },
     "execution_count": 17,
     "metadata": {},
     "output_type": "execute_result"
    }
   ],
   "source": [
    "b = np.reshape(a,(4,3))\n",
    "b"
   ]
  },
  {
   "cell_type": "code",
   "execution_count": 18,
   "id": "44b98921",
   "metadata": {},
   "outputs": [
    {
     "data": {
      "text/plain": [
       "array([[ 0,  3,  6,  9],\n",
       "       [ 1,  4,  7, 10],\n",
       "       [ 2,  5,  8, 11]])"
      ]
     },
     "execution_count": 18,
     "metadata": {},
     "output_type": "execute_result"
    }
   ],
   "source": [
    "At = b.transpose()\n",
    "At"
   ]
  },
  {
   "cell_type": "code",
   "execution_count": 19,
   "id": "57e419f8",
   "metadata": {},
   "outputs": [
    {
     "data": {
      "text/plain": [
       "array([[  5,  14,  23,  32],\n",
       "       [ 14,  50,  86, 122],\n",
       "       [ 23,  86, 149, 212],\n",
       "       [ 32, 122, 212, 302]])"
      ]
     },
     "execution_count": 19,
     "metadata": {},
     "output_type": "execute_result"
    }
   ],
   "source": [
    "B = np.dot(b, At)\n",
    "B"
   ]
  },
  {
   "cell_type": "code",
   "execution_count": 20,
   "id": "b7eb3d08",
   "metadata": {},
   "outputs": [
    {
     "data": {
      "text/plain": [
       "16"
      ]
     },
     "execution_count": 20,
     "metadata": {},
     "output_type": "execute_result"
    }
   ],
   "source": [
    "B.size"
   ]
  },
  {
   "cell_type": "code",
   "execution_count": 21,
   "id": "74805088",
   "metadata": {},
   "outputs": [
    {
     "data": {
      "text/plain": [
       "0.0"
      ]
     },
     "execution_count": 21,
     "metadata": {},
     "output_type": "execute_result"
    }
   ],
   "source": [
    "np.linalg.det(B)"
   ]
  },
  {
   "cell_type": "markdown",
   "id": "8c77313b",
   "metadata": {},
   "source": [
    "### Так как определитель матрицы B равен 0, то обратную матрицу найти невозможно."
   ]
  },
  {
   "cell_type": "code",
   "execution_count": 22,
   "id": "ab4cf2ac",
   "metadata": {},
   "outputs": [],
   "source": [
    "np.random.seed(42)"
   ]
  },
  {
   "cell_type": "code",
   "execution_count": 23,
   "id": "83d1e910",
   "metadata": {},
   "outputs": [
    {
     "data": {
      "text/plain": [
       "array([ 6,  3, 12, 14, 10,  7, 12,  4,  6,  9,  2,  6, 10, 10,  7,  4])"
      ]
     },
     "execution_count": 23,
     "metadata": {},
     "output_type": "execute_result"
    }
   ],
   "source": [
    "c = np.random.randint(0,16,16)\n",
    "c"
   ]
  },
  {
   "cell_type": "code",
   "execution_count": 24,
   "id": "0edd2948",
   "metadata": {},
   "outputs": [
    {
     "data": {
      "text/plain": [
       "array([[ 6,  3, 12, 14],\n",
       "       [10,  7, 12,  4],\n",
       "       [ 6,  9,  2,  6],\n",
       "       [10, 10,  7,  4]])"
      ]
     },
     "execution_count": 24,
     "metadata": {},
     "output_type": "execute_result"
    }
   ],
   "source": [
    "C = np.reshape(c, (4,-1))\n",
    "C"
   ]
  },
  {
   "cell_type": "code",
   "execution_count": 25,
   "id": "2f8eccab",
   "metadata": {},
   "outputs": [
    {
     "data": {
      "text/plain": [
       "array([[ 65,  44, 143, 172],\n",
       "       [114, 120, 206, 162],\n",
       "       [ 83, 176, 169, 272],\n",
       "       [132, 222, 282, 342]])"
      ]
     },
     "execution_count": 25,
     "metadata": {},
     "output_type": "execute_result"
    }
   ],
   "source": [
    "D = B + C*10\n",
    "D"
   ]
  },
  {
   "cell_type": "code",
   "execution_count": 26,
   "id": "24398d29",
   "metadata": {},
   "outputs": [
    {
     "data": {
      "text/plain": [
       "-28511999.999999944"
      ]
     },
     "execution_count": 26,
     "metadata": {},
     "output_type": "execute_result"
    }
   ],
   "source": [
    "np.linalg.det(D)"
   ]
  },
  {
   "cell_type": "code",
   "execution_count": 27,
   "id": "a7cceccf",
   "metadata": {},
   "outputs": [
    {
     "data": {
      "text/plain": [
       "4"
      ]
     },
     "execution_count": 27,
     "metadata": {},
     "output_type": "execute_result"
    }
   ],
   "source": [
    "np.linalg.matrix_rank(D)"
   ]
  },
  {
   "cell_type": "code",
   "execution_count": 28,
   "id": "a23b81eb",
   "metadata": {},
   "outputs": [
    {
     "data": {
      "text/plain": [
       "array([[ 0.00935396,  0.04486532,  0.05897517, -0.07286055],\n",
       "       [-0.01503577, -0.00122896, -0.00192971,  0.00967873],\n",
       "       [-0.00356692, -0.01782828, -0.04152146,  0.04326178],\n",
       "       [ 0.00909091, -0.00181818,  0.01272727, -0.01090909]])"
      ]
     },
     "execution_count": 28,
     "metadata": {},
     "output_type": "execute_result"
    }
   ],
   "source": [
    "D_inv = np.linalg.inv(D)\n",
    "D_inv"
   ]
  },
  {
   "cell_type": "code",
   "execution_count": 29,
   "id": "0374449f",
   "metadata": {},
   "outputs": [
    {
     "data": {
      "text/plain": [
       "array([[1, 1, 1, 0],\n",
       "       [0, 0, 0, 1],\n",
       "       [0, 0, 0, 1],\n",
       "       [1, 0, 1, 0]])"
      ]
     },
     "execution_count": 29,
     "metadata": {},
     "output_type": "execute_result"
    }
   ],
   "source": [
    "D_copy = D_inv > 0\n",
    "D_inv = D_copy.astype(int)\n",
    "D_inv"
   ]
  },
  {
   "cell_type": "code",
   "execution_count": 30,
   "id": "053cb29d",
   "metadata": {},
   "outputs": [
    {
     "data": {
      "text/plain": [
       "0"
      ]
     },
     "execution_count": 30,
     "metadata": {},
     "output_type": "execute_result"
    }
   ],
   "source": [
    "D_inv[(D_inv != 0) & (D_inv != 1)].size"
   ]
  },
  {
   "cell_type": "code",
   "execution_count": 31,
   "id": "ccfecb86",
   "metadata": {},
   "outputs": [
    {
     "name": "stdout",
     "output_type": "stream",
     "text": [
      "[[  5  14  23  32]\n",
      " [ 14  50  86 122]\n",
      " [ 23  86 149 212]\n",
      " [ 32 122 212 302]]\n",
      "[[ 6  3 12 14]\n",
      " [10  7 12  4]\n",
      " [ 6  9  2  6]\n",
      " [10 10  7  4]]\n",
      "[[  5  14  23  14]\n",
      " [ 10   7  12 122]\n",
      " [  6   9   2 212]\n",
      " [ 32  10 212   4]]\n"
     ]
    }
   ],
   "source": [
    "print(B)\n",
    "print(C)\n",
    "E = np.where(D_inv, B, C)\n",
    "print(E)"
   ]
  },
  {
   "cell_type": "code",
   "execution_count": null,
   "id": "da3957f7",
   "metadata": {},
   "outputs": [],
   "source": []
  }
 ],
 "metadata": {
  "kernelspec": {
   "display_name": "Python 3 (ipykernel)",
   "language": "python",
   "name": "python3"
  },
  "language_info": {
   "codemirror_mode": {
    "name": "ipython",
    "version": 3
   },
   "file_extension": ".py",
   "mimetype": "text/x-python",
   "name": "python",
   "nbconvert_exporter": "python",
   "pygments_lexer": "ipython3",
   "version": "3.9.7"
  }
 },
 "nbformat": 4,
 "nbformat_minor": 5
}
